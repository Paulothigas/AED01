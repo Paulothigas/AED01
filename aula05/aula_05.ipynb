{
 "cells": [
  {
   "cell_type": "code",
   "execution_count": 23,
   "id": "3475c47b-b650-4c65-a2fc-90ee748d347a",
   "metadata": {},
   "outputs": [
    {
     "name": "stdin",
     "output_type": "stream",
     "text": [
      "digite o primeiro numero :  23\n",
      "digite o primeiro numero :  40\n"
     ]
    }
   ],
   "source": [
    "numero01 = float(input(\"digite o primeiro numero : \"))\n",
    "numero02 = float(input(\"digite o primeiro numero : \"))"
   ]
  },
  {
   "cell_type": "code",
   "execution_count": 25,
   "id": "cb203cf7-cd4c-4921-a10e-f22b7ba9c6e0",
   "metadata": {},
   "outputs": [],
   "source": [
    "soma = numero01 + numero02"
   ]
  },
  {
   "cell_type": "code",
   "execution_count": 27,
   "id": "082b1724-b437-49a0-8f96-362974faa8c2",
   "metadata": {},
   "outputs": [
    {
     "name": "stdout",
     "output_type": "stream",
     "text": [
      "a soma dos numeros é:63.0\n"
     ]
    }
   ],
   "source": [
    "print(\"a soma dos numeros é:{}\" .format (soma))"
   ]
  },
  {
   "cell_type": "markdown",
   "id": "82de8a8c-1f4f-4db2-a6c0-c3d8b7edf9fc",
   "metadata": {},
   "source": [
    "# tipo string"
   ]
  },
  {
   "cell_type": "code",
   "execution_count": 36,
   "id": "63a71c31-4bf9-44d3-9425-23fb73cfbc52",
   "metadata": {},
   "outputs": [],
   "source": [
    "letra = \"a\""
   ]
  },
  {
   "cell_type": "code",
   "execution_count": 38,
   "id": "b594dcb4-975a-4ba1-ae58-7355f920d477",
   "metadata": {},
   "outputs": [
    {
     "data": {
      "text/plain": [
       "str"
      ]
     },
     "execution_count": 38,
     "metadata": {},
     "output_type": "execute_result"
    }
   ],
   "source": [
    "type(letra)"
   ]
  },
  {
   "cell_type": "code",
   "execution_count": 40,
   "id": "8e327835-2ccc-4060-abb5-8de8d654f3be",
   "metadata": {},
   "outputs": [],
   "source": [
    "palavra = \"seleçao joga mal demais\""
   ]
  },
  {
   "cell_type": "code",
   "execution_count": 42,
   "id": "e8d4bc37-a6ac-4501-b906-401b71cd340e",
   "metadata": {},
   "outputs": [
    {
     "data": {
      "text/plain": [
       "'s'"
      ]
     },
     "execution_count": 42,
     "metadata": {},
     "output_type": "execute_result"
    }
   ],
   "source": [
    "palavra[0]"
   ]
  },
  {
   "cell_type": "markdown",
   "id": "a3932e3a-a31d-4dfb-bc35-4c95b5062bce",
   "metadata": {},
   "source": [
    "# funções imbutidas"
   ]
  },
  {
   "cell_type": "code",
   "execution_count": 47,
   "id": "9299f70f-cf21-4b3f-91e6-91ef10132d6f",
   "metadata": {},
   "outputs": [
    {
     "data": {
      "text/plain": [
       "1"
      ]
     },
     "execution_count": 47,
     "metadata": {},
     "output_type": "execute_result"
    }
   ],
   "source": [
    "abs(1)"
   ]
  },
  {
   "cell_type": "code",
   "execution_count": 49,
   "id": "4878a2f0-535d-4daf-a284-7ba16a53282d",
   "metadata": {},
   "outputs": [
    {
     "data": {
      "text/plain": [
       "'d'"
      ]
     },
     "execution_count": 49,
     "metadata": {},
     "output_type": "execute_result"
    }
   ],
   "source": [
    "chr(100)"
   ]
  },
  {
   "cell_type": "code",
   "execution_count": 52,
   "id": "57518caf-2a89-4d39-8c06-c6a95bb7ccb1",
   "metadata": {},
   "outputs": [
    {
     "data": {
      "text/plain": [
       "'\\x01'"
      ]
     },
     "execution_count": 52,
     "metadata": {},
     "output_type": "execute_result"
    }
   ],
   "source": [
    "chr(1)"
   ]
  },
  {
   "cell_type": "code",
   "execution_count": 54,
   "id": "145fe9ae-30f2-4e25-8f6e-0c0a5ad490ba",
   "metadata": {},
   "outputs": [
    {
     "data": {
      "text/plain": [
       "'_'"
      ]
     },
     "execution_count": 54,
     "metadata": {},
     "output_type": "execute_result"
    }
   ],
   "source": [
    "chr(95)"
   ]
  },
  {
   "cell_type": "code",
   "execution_count": 56,
   "id": "77265a74-822e-42b4-a05f-a472aa64ba78",
   "metadata": {},
   "outputs": [
    {
     "data": {
      "text/plain": [
       "'`'"
      ]
     },
     "execution_count": 56,
     "metadata": {},
     "output_type": "execute_result"
    }
   ],
   "source": [
    "chr(96)"
   ]
  },
  {
   "cell_type": "code",
   "execution_count": 58,
   "id": "b87c5fa8-dc42-4e26-8b1d-4bd8b00f3525",
   "metadata": {},
   "outputs": [
    {
     "data": {
      "text/plain": [
       "98"
      ]
     },
     "execution_count": 58,
     "metadata": {},
     "output_type": "execute_result"
    }
   ],
   "source": [
    "ord(\"b\")"
   ]
  },
  {
   "cell_type": "code",
   "execution_count": 62,
   "id": "e475e122-c868-4dca-a8b3-995489cde341",
   "metadata": {},
   "outputs": [
    {
     "data": {
      "text/plain": [
       "'b'"
      ]
     },
     "execution_count": 62,
     "metadata": {},
     "output_type": "execute_result"
    }
   ],
   "source": [
    "chr(98)"
   ]
  },
  {
   "cell_type": "code",
   "execution_count": null,
   "id": "d6741591-80d2-4bd9-ae52-2b3640beeadc",
   "metadata": {},
   "outputs": [],
   "source": []
  },
  {
   "cell_type": "code",
   "execution_count": null,
   "id": "3b3874db-483d-49d5-857e-a0c16b7c5c97",
   "metadata": {},
   "outputs": [],
   "source": []
  },
  {
   "cell_type": "code",
   "execution_count": null,
   "id": "e12e10ba-3601-41df-9dda-f6892b035336",
   "metadata": {},
   "outputs": [],
   "source": []
  },
  {
   "cell_type": "code",
   "execution_count": null,
   "id": "98a4caca-119b-4505-9f37-e80c1b9570c0",
   "metadata": {},
   "outputs": [],
   "source": []
  }
 ],
 "metadata": {
  "kernelspec": {
   "display_name": "Python [conda env:base] *",
   "language": "python",
   "name": "conda-base-py"
  },
  "language_info": {
   "codemirror_mode": {
    "name": "ipython",
    "version": 3
   },
   "file_extension": ".py",
   "mimetype": "text/x-python",
   "name": "python",
   "nbconvert_exporter": "python",
   "pygments_lexer": "ipython3",
   "version": "3.12.7"
  }
 },
 "nbformat": 4,
 "nbformat_minor": 5
}
