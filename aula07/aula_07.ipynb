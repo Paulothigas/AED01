{
 "cells": [
  {
   "cell_type": "markdown",
   "id": "9e0798fb-ff35-47dc-bf99-a1b278fcf335",
   "metadata": {},
   "source": [
    "### aula 07"
   ]
  },
  {
   "cell_type": "markdown",
   "id": "7db5e059-5b01-4bc7-a1fd-0a668ae2e7bc",
   "metadata": {},
   "source": [
    "# estruras condicionais "
   ]
  },
  {
   "cell_type": "code",
   "execution_count": null,
   "id": "0f316251-160e-4a4c-9b77-9443303dd629",
   "metadata": {},
   "outputs": [],
   "source": []
  }
 ],
 "metadata": {
  "kernelspec": {
   "display_name": "Python [conda env:base] *",
   "language": "python",
   "name": "conda-base-py"
  },
  "language_info": {
   "codemirror_mode": {
    "name": "ipython",
    "version": 3
   },
   "file_extension": ".py",
   "mimetype": "text/x-python",
   "name": "python",
   "nbconvert_exporter": "python",
   "pygments_lexer": "ipython3",
   "version": "3.12.7"
  }
 },
 "nbformat": 4,
 "nbformat_minor": 5
}
