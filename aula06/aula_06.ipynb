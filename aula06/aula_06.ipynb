{
 "cells": [
  {
   "cell_type": "markdown",
   "id": "14433cb5-586f-4aa0-a4e0-ac50e6c75002",
   "metadata": {},
   "source": [
    "# comandos de entrada e saida"
   ]
  },
  {
   "cell_type": "code",
   "execution_count": 4,
   "id": "f943ebf3-1dc6-4dfa-a447-148b7480adb8",
   "metadata": {},
   "outputs": [],
   "source": [
    "name = \"Paulo\"\n",
    "idade = 18"
   ]
  },
  {
   "cell_type": "code",
   "execution_count": 6,
   "id": "51ccb657-0214-435b-82e6-fb4ec7be5d90",
   "metadata": {},
   "outputs": [
    {
     "name": "stdout",
     "output_type": "stream",
     "text": [
      "Paulo tem 18 anos!\n"
     ]
    }
   ],
   "source": [
    "print(name, \"tem\",idade, \"anos!\")"
   ]
  },
  {
   "cell_type": "code",
   "execution_count": 8,
   "id": "c80a76bc-da4d-4025-9ed2-b397c0281191",
   "metadata": {},
   "outputs": [
    {
     "name": "stdin",
     "output_type": "stream",
     "text": [
      " Digite seu nome :  Paulo\n"
     ]
    }
   ],
   "source": [
    "name = input(\" Digite seu nome : \")"
   ]
  },
  {
   "cell_type": "code",
   "execution_count": 10,
   "id": "b199627d-c48e-4600-aa12-c30fc613cb68",
   "metadata": {},
   "outputs": [
    {
     "name": "stdin",
     "output_type": "stream",
     "text": [
      "digite sua idade 18\n"
     ]
    }
   ],
   "source": [
    "idade = input(\"digite sua idade\")"
   ]
  },
  {
   "cell_type": "code",
   "execution_count": 12,
   "id": "0a5e8fa8-4c7a-4f9b-b5bd-0006c79f138d",
   "metadata": {},
   "outputs": [
    {
     "data": {
      "text/plain": [
       "'18'"
      ]
     },
     "execution_count": 12,
     "metadata": {},
     "output_type": "execute_result"
    }
   ],
   "source": [
    "idade"
   ]
  },
  {
   "cell_type": "code",
   "execution_count": 14,
   "id": "33ddf425-4c92-4493-988a-5719b3702512",
   "metadata": {},
   "outputs": [],
   "source": [
    "idade = int(idade)"
   ]
  },
  {
   "cell_type": "code",
   "execution_count": 16,
   "id": "69b0721a-85c6-4bd5-880e-9c6485b88741",
   "metadata": {},
   "outputs": [
    {
     "data": {
      "text/plain": [
       "18"
      ]
     },
     "execution_count": 16,
     "metadata": {},
     "output_type": "execute_result"
    }
   ],
   "source": [
    "idade"
   ]
  },
  {
   "cell_type": "code",
   "execution_count": 1,
   "id": "4571d796-ecbf-4717-ac84-e051f75266ae",
   "metadata": {},
   "outputs": [
    {
     "name": "stdin",
     "output_type": "stream",
     "text": [
      "digite sua idade 18\n"
     ]
    }
   ],
   "source": [
    "idade = int(input(\"digite sua idade\"))"
   ]
  },
  {
   "cell_type": "code",
   "execution_count": 1,
   "id": "62a9f74d-a87c-422c-8d81-0c089bd4fd3a",
   "metadata": {},
   "outputs": [
    {
     "name": "stdin",
     "output_type": "stream",
     "text": [
      "digite o lado maior 5\n",
      "digite o lado menor 5\n"
     ]
    },
    {
     "name": "stdout",
     "output_type": "stream",
     "text": [
      " A area do quadrilatero é : 25.0\n"
     ]
    }
   ],
   "source": [
    "lado_01 = float(input(\"digite o lado maior\"))\n",
    "lado_02 = float(input(\"digite o lado menor\"))\n",
    "area = lado_01 * lado_02\n",
    "print(\" A area do quadrilatero é :\", area)\n"
   ]
  },
  {
   "cell_type": "code",
   "execution_count": null,
   "id": "3cb57ac3-6baf-4d5a-bf01-1a1822b0ce23",
   "metadata": {},
   "outputs": [],
   "source": []
  }
 ],
 "metadata": {
  "kernelspec": {
   "display_name": "Python [conda env:base] *",
   "language": "python",
   "name": "conda-base-py"
  },
  "language_info": {
   "codemirror_mode": {
    "name": "ipython",
    "version": 3
   },
   "file_extension": ".py",
   "mimetype": "text/x-python",
   "name": "python",
   "nbconvert_exporter": "python",
   "pygments_lexer": "ipython3",
   "version": "3.12.7"
  }
 },
 "nbformat": 4,
 "nbformat_minor": 5
}
